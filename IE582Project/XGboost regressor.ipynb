{
 "cells": [
  {
   "cell_type": "code",
   "execution_count": 8,
   "metadata": {},
   "outputs": [
    {
     "name": "stdout",
     "output_type": "stream",
     "text": [
      "[00:29:48] WARNING: C:/buildkite-agent/builds/buildkite-windows-cpu-autoscaling-group-i-030221e36e1a46bfb-1/xgboost/xgboost-ci-windows/src/objective/regression_obj.cu:213: reg:linear is now deprecated in favor of reg:squarederror.\n",
      "RMSE :  1.092367\n"
     ]
    },
    {
     "data": {
      "text/plain": [
       "array([0.00874888, 0.00181093, 0.00205231, 0.29869327, 0.001759  ,\n",
       "       0.00142214, 0.01658645, 0.01280133, 0.00262865, 0.00066045,\n",
       "       0.00258604, 0.07844532, 0.01590272, 0.00083156, 0.00346647,\n",
       "       0.00175635, 0.00787847, 0.01314597, 0.10466871, 0.00196701,\n",
       "       0.        , 0.00498054, 0.00195452, 0.00607764, 0.00388041,\n",
       "       0.01837558, 0.10977354, 0.01906793, 0.00336502, 0.0008898 ,\n",
       "       0.00213855, 0.00555693, 0.01903878, 0.01095541, 0.0014404 ,\n",
       "       0.21235882, 0.00233412], dtype=float32)"
      ]
     },
     "execution_count": 8,
     "metadata": {},
     "output_type": "execute_result"
    }
   ],
   "source": [
    "import numpy as np\n",
    "import pandas as pd\n",
    "import xgboost as xg\n",
    "from sklearn.model_selection import train_test_split\n",
    "from sklearn.metrics import mean_squared_error as MSE\n",
    "from sklearn.inspection import permutation_importance\n",
    "from matplotlib import pyplot as plt\n",
    "dataset = pd.read_csv(\"2017-2019 without name.csv\")\n",
    "X, y = dataset.iloc[:, :-1], dataset.iloc[:, -1]\n",
    "train_X, test_X, train_y, test_y = train_test_split(X, y,test_size = 0.3, random_state = 123)\n",
    "xgb_r = xg.XGBRegressor(objective ='reg:linear',n_estimators = 10, seed = 123)\n",
    "xgb_r.fit(train_X, train_y)\n",
    "pred = xgb_r.predict(test_X)\n",
    "rmse = np.sqrt(MSE(test_y, pred))\n",
    "print(\"RMSE : % f\" %(rmse))\n",
    "xgb_r.feature_importances_\n",
    "plt.barh(load_boston.feature_names, xgb_r.feature_importances_)\n",
    "\n"
   ]
  }
 ],
 "metadata": {
  "kernelspec": {
   "display_name": "Python 3 (ipykernel)",
   "language": "python",
   "name": "python3"
  },
  "language_info": {
   "codemirror_mode": {
    "name": "ipython",
    "version": 3
   },
   "file_extension": ".py",
   "mimetype": "text/x-python",
   "name": "python",
   "nbconvert_exporter": "python",
   "pygments_lexer": "ipython3",
   "version": "3.9.15"
  },
  "vscode": {
   "interpreter": {
    "hash": "819058539113962ec09f0cb2cb84fa85d14f11ac3d570d908b5897e23921dcca"
   }
  }
 },
 "nbformat": 4,
 "nbformat_minor": 4
}
