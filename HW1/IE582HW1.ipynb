{
 "cells": [
  {
   "cell_type": "code",
   "execution_count": null,
   "id": "4512c3e9",
   "metadata": {},
   "outputs": [],
   "source": [
    "import pandas as pd\n",
    "import numpy as np\n",
    "import matplotlib.pyplot as plt\n",
    "import seaborn as sns\n",
    "\n",
    "sns.set_style(\"white\")"
   ]
  },
  {
   "cell_type": "code",
   "execution_count": null,
   "id": "ce8d61f9",
   "metadata": {},
   "outputs": [],
   "source": [
    "# import data\n",
    "data = pd.read_csv('day.csv')"
   ]
  },
  {
   "cell_type": "markdown",
   "id": "a70d24d6",
   "metadata": {},
   "source": [
    "## Hypothesis Function\n",
    "\n",
    "$$\n",
    "h_{\\theta}(\\boldsymbol{X}) = \\boldsymbol{X}\\boldsymbol{\\theta}\n",
    "$$\n",
    "\n",
    "where \n",
    "$$\n",
    "\\boldsymbol{X}=\\left(\\begin{array}{ccccc}\n",
    "1 & x_{1,1} & x_{1,2} & \\cdots & x_{1, d} \\\\\n",
    "1 & x_{2,1} & x_{2,2} & \\cdots & x_{2, d} \\\\\n",
    "1 & \\vdots & \\vdots & \\vdots & \\vdots \\\\\n",
    "1 &x_{n, 1} & x_{n, 2} & \\cdots & x_{n, d}\n",
    "\\end{array}\\right)\n",
    "$$\n",
    "\n",
    "## Loss Function\n",
    "\n",
    "$$\n",
    "J(\\boldsymbol{\\theta}) = \\frac{1}{2m}(\\boldsymbol{X}\\boldsymbol{\\theta}-\\boldsymbol{y})^\\top(\\boldsymbol{X}\\boldsymbol{\\theta}-\\boldsymbol{y})\n",
    "$$\n"
   ]
  },
  {
   "cell_type": "code",
   "execution_count": null,
   "id": "abc02fcb",
   "metadata": {},
   "outputs": [],
   "source": [
    "def loss_function(X, y, theta):\n",
    "    \n",
    "    \"\"\"\n",
    "    Calculate the loss for the model.\n",
    "    \n",
    "    Parameters:\n",
    "    -------------\n",
    "    X: input variables\n",
    "    y: output\n",
    "    theta: estimators\n",
    "    \n",
    "    Returns:\n",
    "    -------------\n",
    "    loss: the loss based on your current estimators\n",
    "    error: the difference between the true outcome and your predicted outcome\n",
    "    \"\"\"\n",
    "    # start your code\n",
    "    \n",
    "    # end your code\n",
    "    return loss, error"
   ]
  },
  {
   "cell_type": "markdown",
   "id": "8dea1e3d",
   "metadata": {},
   "source": [
    "## Gradient Descent\n",
    "\n",
    "Repeat until Convergence $\\{\n",
    "      \\theta_j=\\theta_j-\\frac{\\alpha}{m}\\sum_{i=1}^{m}(h_{\\theta}(x^{(i)})-y{(i)})\\cdot x_{j}^{(i)}\\}$ for \n",
    "      $j=0,1,\\dots,n$."
   ]
  },
  {
   "cell_type": "code",
   "execution_count": null,
   "id": "3fcfcd98",
   "metadata": {},
   "outputs": [],
   "source": [
    "def gradient_descent(X, y, theta, alpha, iters):\n",
    "    \"\"\"\n",
    "    Taking the Gradient Descent to find the optimal solution.\n",
    "    \n",
    "    Parameters:\n",
    "    -------------\n",
    "    X: input variables\n",
    "    y: output\n",
    "    theta: current estimators\n",
    "    alpha: learning rate\n",
    "    iters: number of iterations (n)\n",
    "    \n",
    "    Returns:\n",
    "    -------------\n",
    "    theta: updated estimators after n iterations\n",
    "    loss: updated loss after n iterations\n",
    "    \"\"\"\n",
    "    \n",
    "    # start your code\n",
    "    \n",
    "    # end your code\n",
    "    return new_theta, new_loss"
   ]
  },
  {
   "cell_type": "code",
   "execution_count": null,
   "id": "38785ffb",
   "metadata": {},
   "outputs": [],
   "source": [
    "# Define the input and the output\n",
    "X = \n",
    "y = "
   ]
  },
  {
   "cell_type": "code",
   "execution_count": null,
   "id": "e6cee843",
   "metadata": {},
   "outputs": [],
   "source": [
    "# Define the hyper parameters\n",
    "alpha = \n",
    "iterations = "
   ]
  },
  {
   "cell_type": "code",
   "execution_count": null,
   "id": "862ecffd",
   "metadata": {},
   "outputs": [],
   "source": [
    "# Initialise the estimators\n",
    "theta = "
   ]
  },
  {
   "cell_type": "code",
   "execution_count": null,
   "id": "446002e7",
   "metadata": {},
   "outputs": [],
   "source": [
    "# Calculate the initial loss\n",
    "initial_loss = "
   ]
  },
  {
   "cell_type": "code",
   "execution_count": null,
   "id": "7437b529",
   "metadata": {},
   "outputs": [],
   "source": [
    "print('With initial theta values of {0}, loss is {1}'.format(theta, initial_loss))"
   ]
  },
  {
   "cell_type": "code",
   "execution_count": null,
   "id": "e3eaab1c",
   "metadata": {},
   "outputs": [],
   "source": [
    "# Take the Gradient Descent\n",
    "theta, cost_num = "
   ]
  },
  {
   "cell_type": "code",
   "execution_count": null,
   "id": "0f238546",
   "metadata": {},
   "outputs": [],
   "source": [
    "final_loss = "
   ]
  },
  {
   "cell_type": "code",
   "execution_count": null,
   "id": "b175736e",
   "metadata": {},
   "outputs": [],
   "source": [
    "print('With final theta values of {0}, cost loss is {1}'.format(theta, final_loss))"
   ]
  },
  {
   "cell_type": "code",
   "execution_count": null,
   "id": "2440b990",
   "metadata": {},
   "outputs": [],
   "source": [
    "# Plot the learning curve\n",
    "def plot_lc(iterations, cost_num):\n",
    "    fig, ax = plt.subplots()\n",
    "    ax.plot(np.arange(iterations), cost_num, 'b')\n",
    "    ax.set_xlabel('Iterations')\n",
    "    ax.set_ylabel('Loss')\n",
    "    ax.set_title('Learning curve')\n",
    "    plt.show()"
   ]
  },
  {
   "cell_type": "code",
   "execution_count": null,
   "id": "05546d81",
   "metadata": {},
   "outputs": [],
   "source": [
    "plot_lc(iterations, cost_num)"
   ]
  },
  {
   "cell_type": "code",
   "execution_count": null,
   "id": "6631a057",
   "metadata": {},
   "outputs": [],
   "source": [
    "def plotRes(residuals, y_pred):\n",
    "    data = pd.DataFrame({\n",
    "        'Predicted Values': y_pred,\n",
    "        'Residuals': residuals\n",
    "    })\n",
    "    plt.figure()\n",
    "    sns.jointplot(x='Predicted Values', y='Residuals', data=data)\n",
    "\n",
    "    plt.show()"
   ]
  },
  {
   "cell_type": "code",
   "execution_count": null,
   "id": "5428aba3",
   "metadata": {},
   "outputs": [],
   "source": [
    "# plot the residuals vs predicted values\n",
    "residuals = \n",
    "y_pred = \n",
    "plotRes(residuals, y_pred)\n"
   ]
  },
  {
   "cell_type": "code",
   "execution_count": null,
   "id": "50b99fbf",
   "metadata": {},
   "outputs": [],
   "source": []
  },
  {
   "cell_type": "code",
   "execution_count": null,
   "id": "9fae8fea",
   "metadata": {},
   "outputs": [],
   "source": []
  }
 ],
 "metadata": {
  "kernelspec": {
   "display_name": "Python 3.9.12 ('base')",
   "language": "python",
   "name": "python3"
  },
  "language_info": {
   "codemirror_mode": {
    "name": "ipython",
    "version": 3
   },
   "file_extension": ".py",
   "mimetype": "text/x-python",
   "name": "python",
   "nbconvert_exporter": "python",
   "pygments_lexer": "ipython3",
   "version": "3.9.12"
  },
  "vscode": {
   "interpreter": {
    "hash": "1a83befa034ca4f17a63b2597ace7ab26dd92605bf621730727f2841d04bb3c3"
   }
  }
 },
 "nbformat": 4,
 "nbformat_minor": 5
}
